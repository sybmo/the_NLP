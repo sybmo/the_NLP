{
 "cells": [
  {
   "cell_type": "code",
   "execution_count": 1,
   "id": "79f219d1",
   "metadata": {},
   "outputs": [],
   "source": [
    "from allennlp_models.pretrained import load_predictor\n",
    "from allennlp_models.pretrained import get_pretrained_models\n",
    "\n",
    "import checklist\n",
    "from checklist.editor import Editor\n",
    "from checklist.perturb import Perturb\n",
    "from checklist.test_types import MFT, INV, DIR\n",
    "from checklist.expect import Expect\n",
    "\n",
    "from checklist.pred_wrapper import PredictorWrapper\n",
    "import pandas as pd\n",
    "\n",
    "from nltk.corpus import wordnet as wn\n",
    "import random\n",
    "pd.set_option('max_colwidth', 1000)"
   ]
  },
  {
   "cell_type": "code",
   "execution_count": 2,
   "id": "b1644be7",
   "metadata": {},
   "outputs": [],
   "source": [
    "# you can define the amount of samples here!\n",
    "nsamples = 100"
   ]
  },
  {
   "cell_type": "code",
   "execution_count": 3,
   "id": "4d45f43d",
   "metadata": {},
   "outputs": [],
   "source": [
    "def get_tags_v0(sentence):\n",
    "    output = srl_predictor.predict(sentence)\n",
    "    if len(output['verbs']) >= 1:\n",
    "        pp_tags = output['verbs'][0]['tags']#['verb']#[0]['tags']\n",
    "    else:\n",
    "        pp_tags = []\n",
    "    return pp_tags\n",
    "\n",
    "def get_descr_v0(sentence):\n",
    "    output = srl_predictor.predict(sentence)\n",
    "    if len(output['verbs']) >= 1:\n",
    "        pp_descr = output['verbs'][0]['description']\n",
    "    else:\n",
    "        pp_descr = []\n",
    "    return pp_descr\n",
    "\n",
    "def find_final_min_one_arg(list_of_arg):\n",
    "    if list_of_arg:\n",
    "        element = list_of_arg[-2]\n",
    "    else:\n",
    "        element = 'missed_verb'\n",
    "    return element\n",
    "\n",
    "def find_first_arg(list_of_arg):\n",
    "    if list_of_arg:\n",
    "        element = list_of_arg[0]\n",
    "    else:\n",
    "        element = 'missed_verb'\n",
    "    return element\n",
    "\n",
    "def inverse_topic(sentence):\n",
    "    string_split = sentence.split()\n",
    "    loc = string_split[-3:]\n",
    "    loc[0]= loc[0].capitalize()\n",
    "    loc[2] = loc[2][:-1]\n",
    "    loc[2] = loc[2]+','\n",
    "    not_loc = string_split[:-3]\n",
    "    not_loc[0] = not_loc[0].lower()\n",
    "    rebuilt_sentence_list = loc + not_loc\n",
    "    rebuilt_sentence = \" \".join(rebuilt_sentence_list)+\".\"\n",
    "    return(rebuilt_sentence)\n",
    "\n",
    "def make_data_locative(nsamples):\n",
    "    list_locative_normal= []\n",
    "    list_locative_inverted = []\n",
    "    editor = Editor()\n",
    "\n",
    "    list_of_places_to_sleep = ['bed', 'hut', 'park', 'tent','cage']\n",
    "\n",
    "    test_data = editor.template(\"Only {first_name} sleeps in that {place}.\",\n",
    "                                place = list_of_places_to_sleep,\n",
    "                                meta=True,  \n",
    "                                nsamples=nsamples,\n",
    "                                remove_duplicates=True)\n",
    "    list_locative_normal.append(test_data['data'])\n",
    "    #flatten list\n",
    "    list_locative_normal = [x for xs in list_locative_normal for x in xs]\n",
    "    \n",
    "    return list_locative_normal\n",
    "\n",
    "def make_data_directive(nsamples):\n",
    "    editor = Editor()\n",
    "    list_directive = []\n",
    "\n",
    "    places = ['classroom', 'party', 'park', 'tent','cage','building','future','past','wedding','funeral']\n",
    "    verb = ['went to']\n",
    "    subj = ['girls', 'boys', 'men', 'women', 'animals', 'horses']\n",
    "\n",
    "    test_data = editor.template(\"The {subj} {verb} the {place}.\",\n",
    "                                subj = subj,\n",
    "                                place = places,\n",
    "                                verb = verb,\n",
    "                                meta=True,  \n",
    "                                nsamples=nsamples,\n",
    "                                remove_duplicates=True)\n",
    "    list_directive.append(test_data['data'])\n",
    "    #flatten list\n",
    "    list_directive = [x for xs in list_directive for x in xs]\n",
    "    return list_directive"
   ]
  },
  {
   "cell_type": "markdown",
   "id": "babe7980",
   "metadata": {},
   "source": [
    "## In the cell below, the functions are applied to the data (normal / inverted). All output is stored in separate columns. After that, all of the rows where the tags for normal / inverted differ are shown and the failure rate is calculated by dividing the wrongly predicted tag by the lenght of the original dataframe "
   ]
  },
  {
   "cell_type": "code",
   "execution_count": 4,
   "id": "b57f5de3",
   "metadata": {},
   "outputs": [],
   "source": [
    "list_data_locative = make_data_locative(nsamples)\n",
    "list_data_directive = make_data_directive(nsamples)"
   ]
  },
  {
   "cell_type": "code",
   "execution_count": null,
   "id": "f31ab6b1",
   "metadata": {},
   "outputs": [
    {
     "name": "stderr",
     "output_type": "stream",
     "text": [
      "lerc is not a registered model.\n",
      "Some weights of the model checkpoint at bert-base-uncased were not used when initializing BertModel: ['cls.predictions.transform.LayerNorm.bias', 'cls.seq_relationship.weight', 'cls.predictions.transform.dense.bias', 'cls.predictions.decoder.weight', 'cls.predictions.bias', 'cls.predictions.transform.LayerNorm.weight', 'cls.predictions.transform.dense.weight', 'cls.seq_relationship.bias']\n",
      "- This IS expected if you are initializing BertModel from the checkpoint of a model trained on another task or with another architecture (e.g. initializing a BertForSequenceClassification model from a BertForPreTraining model).\n",
      "- This IS NOT expected if you are initializing BertModel from the checkpoint of a model that you expect to be exactly identical (initializing a BertForSequenceClassification model from a BertForSequenceClassification model).\n"
     ]
    }
   ],
   "source": [
    "srl_predictor = load_predictor('structured-prediction-srl-bert')\n",
    "df_locative = pd.DataFrame(list_data_locative)\n",
    "\n",
    "df_locative['tags_normal'] = df_locative[0].apply(get_tags_v0)\n",
    "df_locative['descr_normal'] = df_locative[0].apply(get_descr_v0)\n",
    "df_locative['final-1_tag_normal'] = df_locative['tags_normal'].apply(find_final_min_one_arg)\n",
    "\n",
    "df_locative['inverted'] = df_locative[0].apply(inverse_topic)\n",
    "df_locative['tags_inverted'] = df_locative['inverted'].apply(get_tags_v0)\n",
    "df_locative['descr_inverted'] = df_locative['inverted'].apply(get_descr_v0)\n",
    "df_locative['first_tag_inverted'] = df_locative['tags_inverted'].apply(find_first_arg)\n",
    "\n",
    "df_locative['final-1_tag_normal'] = df_locative['final-1_tag_normal'].str[2:]\n",
    "df_locative['first_tag_inverted'] =df_locative['first_tag_inverted'].str[2:]\n",
    "df_locative.head(5)"
   ]
  },
  {
   "cell_type": "code",
   "execution_count": null,
   "id": "85dda0ea",
   "metadata": {},
   "outputs": [],
   "source": [
    "errors_locative_bert = df_locative[df_locative['final-1_tag_normal'] != df_locative['first_tag_inverted']][[0,'descr_normal', 'descr_inverted']]\n",
    "failure_rate_locative_bert = len(errors_locative_bert) / len(df_locative)\n",
    "errors_locative_bert"
   ]
  },
  {
   "cell_type": "code",
   "execution_count": null,
   "id": "edd9c532",
   "metadata": {},
   "outputs": [],
   "source": [
    "df_directive = pd.DataFrame(list_data_directive)\n",
    "\n",
    "df_directive['tags_normal'] = df_directive[0].apply(get_tags_v0)\n",
    "df_directive['descr_normal'] = df_directive[0].apply(get_descr_v0)\n",
    "df_directive['final-1_tag_normal'] = df_directive['tags_normal'].apply(find_final_min_one_arg)\n",
    "\n",
    "df_directive['inverted'] = df_directive[0].apply(inverse_topic)\n",
    "df_directive['tags_inverted'] = df_directive['inverted'].apply(get_tags_v0)\n",
    "df_directive['descr_inverted'] = df_directive['inverted'].apply(get_descr_v0)\n",
    "df_directive['first_tag_inverted'] = df_directive['tags_inverted'].apply(find_first_arg)\n",
    "\n",
    "df_directive['final-1_tag_normal'] = df_directive['final-1_tag_normal'].str[2:]\n",
    "df_directive['first_tag_inverted'] =df_directive['first_tag_inverted'].str[2:]\n",
    "df_directive.head(5)"
   ]
  },
  {
   "cell_type": "code",
   "execution_count": null,
   "id": "307e111d",
   "metadata": {},
   "outputs": [],
   "source": [
    "errors_directive_bert = df_directive[df_directive['final-1_tag_normal'] != df_directive['first_tag_inverted']][[0,'descr_normal', 'descr_inverted']]\n",
    "failure_rate_directive_bert = len(errors_directive_bert) / len(df_directive)\n",
    "errors_directive_bert\n"
   ]
  },
  {
   "cell_type": "code",
   "execution_count": null,
   "id": "5d891365",
   "metadata": {},
   "outputs": [],
   "source": [
    "srl_predictor = load_predictor('structured-prediction-srl')\n",
    "df_locative = pd.DataFrame(list_data_locative)\n",
    "\n",
    "df_locative['tags_normal'] = df_locative[0].apply(get_tags_v0)\n",
    "df_locative['descr_normal'] = df_locative[0].apply(get_descr_v0)\n",
    "df_locative['final-1_tag_normal'] = df_locative['tags_normal'].apply(find_final_min_one_arg)\n",
    "\n",
    "df_locative['inverted'] = df_locative[0].apply(inverse_topic)\n",
    "df_locative['tags_inverted'] = df_locative['inverted'].apply(get_tags_v0)\n",
    "df_locative['descr_inverted'] = df_locative['inverted'].apply(get_descr_v0)\n",
    "df_locative['first_tag_inverted'] = df_locative['tags_inverted'].apply(find_first_arg)\n",
    "\n",
    "df_locative['final-1_tag_normal'] = df_locative['final-1_tag_normal'].str[2:]\n",
    "df_locative['first_tag_inverted'] =df_locative['first_tag_inverted'].str[2:]\n",
    "df_locative.head(5)"
   ]
  },
  {
   "cell_type": "code",
   "execution_count": null,
   "id": "8fffdb55",
   "metadata": {},
   "outputs": [],
   "source": [
    "errors_locative_bilstm = df_locative[df_locative['final-1_tag_normal'] != df_locative['first_tag_inverted']][[0,'descr_normal', 'descr_inverted']]\n",
    "failure_rate_locative_bilstm = len(errors_locative_bilstm) / len(df_locative)\n",
    "errors_locative_bilstm"
   ]
  },
  {
   "cell_type": "code",
   "execution_count": null,
   "id": "cca10a52",
   "metadata": {},
   "outputs": [],
   "source": [
    "df_locative.iloc[27]"
   ]
  },
  {
   "cell_type": "code",
   "execution_count": null,
   "id": "3f275383",
   "metadata": {},
   "outputs": [],
   "source": [
    "df_directive = pd.DataFrame(list_data_directive)\n",
    "\n",
    "df_directive['tags_normal'] = df_directive[0].apply(get_tags_v0)\n",
    "df_directive['descr_normal'] = df_directive[0].apply(get_descr_v0)\n",
    "df_directive['final-1_tag_normal'] = df_directive['tags_normal'].apply(find_final_min_one_arg)\n",
    "\n",
    "df_directive['inverted'] = df_directive[0].apply(inverse_topic)\n",
    "df_directive['tags_inverted'] = df_directive['inverted'].apply(get_tags_v0)\n",
    "df_directive['descr_inverted'] = df_directive['inverted'].apply(get_descr_v0)\n",
    "df_directive['first_tag_inverted'] = df_directive['tags_inverted'].apply(find_first_arg)\n",
    "\n",
    "df_directive['final-1_tag_normal'] = df_directive['final-1_tag_normal'].str[2:]\n",
    "df_directive['first_tag_inverted'] =df_directive['first_tag_inverted'].str[2:]\n",
    "df_directive.head(5)"
   ]
  },
  {
   "cell_type": "code",
   "execution_count": null,
   "id": "009cda46",
   "metadata": {},
   "outputs": [],
   "source": [
    "errors_directive_bilstm = df_directive[df_directive['final-1_tag_normal'] != df_directive['first_tag_inverted']][[0,'descr_normal', 'descr_inverted']]\n",
    "failure_rate_directive_bilstm = len(errors_directive_bilstm) / len(df_directive)\n",
    "errors_directive_bilstm"
   ]
  },
  {
   "cell_type": "code",
   "execution_count": null,
   "id": "a21f9b52",
   "metadata": {},
   "outputs": [],
   "source": []
  },
  {
   "cell_type": "code",
   "execution_count": null,
   "id": "3697a45c",
   "metadata": {},
   "outputs": [],
   "source": [
    "print(\"error rate locative BiLSTM:\")\n",
    "print(failure_rate_locative_bilstm)\n",
    "print(\"error rate directive BiLSTM:\")\n",
    "print(failure_rate_directive_bilstm)\n",
    "print(\"error rate locative BERT:\")\n",
    "print(failure_rate_locative_bert)\n",
    "print(\"error rate directive BERT:\")\n",
    "print(failure_rate_directive_bert)"
   ]
  },
  {
   "cell_type": "code",
   "execution_count": null,
   "id": "1d897e61",
   "metadata": {},
   "outputs": [],
   "source": []
  },
  {
   "cell_type": "code",
   "execution_count": null,
   "id": "458ba43b",
   "metadata": {},
   "outputs": [],
   "source": []
  }
 ],
 "metadata": {
  "kernelspec": {
   "display_name": "the",
   "language": "python",
   "name": "the"
  },
  "language_info": {
   "codemirror_mode": {
    "name": "ipython",
    "version": 3
   },
   "file_extension": ".py",
   "mimetype": "text/x-python",
   "name": "python",
   "nbconvert_exporter": "python",
   "pygments_lexer": "ipython3",
   "version": "3.9.7"
  }
 },
 "nbformat": 4,
 "nbformat_minor": 5
}
