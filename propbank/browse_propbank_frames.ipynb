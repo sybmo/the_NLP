{
 "cells": [
  {
   "cell_type": "markdown",
   "metadata": {},
   "source": [
    "# Inspect propbank roles"
   ]
  },
  {
   "cell_type": "code",
   "execution_count": 1,
   "metadata": {},
   "outputs": [],
   "source": [
    "from lxml import etree as et"
   ]
  },
  {
   "cell_type": "markdown",
   "metadata": {},
   "source": [
    "# 1. Explore the xml structure"
   ]
  },
  {
   "cell_type": "code",
   "execution_count": 2,
   "metadata": {},
   "outputs": [],
   "source": [
    "# simple: arrive, teach\n",
    "# complex: break, be, get\n",
    "\n",
    "lemma = 'go'\n",
    "path_test = f'propbank-frames/frames/{lemma}.xml'\n",
    "tree = et.parse(path_test)\n",
    "root = tree.getroot()"
   ]
  },
  {
   "cell_type": "code",
   "execution_count": 3,
   "metadata": {},
   "outputs": [
    {
     "name": "stdout",
     "output_type": "stream",
     "text": [
      "0 predicate {'lemma': 'go'}\n",
      "1 predicate {'lemma': 'go_on'}\n",
      "2 predicate {'lemma': 'go_off'}\n",
      "3 predicate {'lemma': 'go_out'}\n",
      "4 predicate {'lemma': 'go_back'}\n",
      "5 predicate {'lemma': 'go_through'}\n",
      "6 predicate {'lemma': 'go_over'}\n",
      "7 predicate {'lemma': 'go_down'}\n",
      "8 predicate {'lemma': 'undergo'}\n",
      "9 predicate {'lemma': 'gone'}\n"
     ]
    }
   ],
   "source": [
    "for n, ch in enumerate(root.getchildren()):\n",
    "    print(n, ch.tag, ch.attrib)"
   ]
  },
  {
   "cell_type": "markdown",
   "metadata": {},
   "source": [
    "# 2. Explore predicate"
   ]
  },
  {
   "cell_type": "code",
   "execution_count": 4,
   "metadata": {},
   "outputs": [
    {
     "name": "stdout",
     "output_type": "stream",
     "text": [
      "0 roleset {'id': 'go.01', 'name': 'motion'}\n",
      "1 roleset {'id': 'go.02', 'name': 'self-directed motion, disapear or go away'}\n",
      "2 roleset {'id': 'go.03', 'name': 'pursue (often with after)'}\n",
      "3 roleset {'id': 'go.04', 'name': 'modal / future'}\n",
      "4 roleset {'id': 'go.05', 'name': 'serial verb construction'}\n",
      "5 roleset {'id': 'go.06', 'name': 'proceed (with a variety of prepositions)'}\n",
      "6 roleset {'id': 'go.07', 'name': 'sell'}\n",
      "7 roleset {'id': 'go.08', 'name': 'become'}\n",
      "8 roleset {'id': 'go.09', 'name': 'operate'}\n",
      "9 roleset {'id': 'go.10', 'name': 'benefactive'}\n",
      "10 roleset {'id': 'go.11', 'name': 'serve'}\n",
      "11 roleset {'id': 'go.12', 'name': 'experience, undergo'}\n",
      "12 roleset {'id': 'go.14', 'name': 'be left'}\n",
      "13 roleset {'id': 'go.21', 'name': 'have on your side'}\n",
      "14 roleset {'id': 'go.22', 'name': 'go with, match, accompany'}\n",
      "15 roleset {'id': 'go.23', 'name': 'say'}\n",
      "16 roleset {'id': 'go.24', 'name': 'existential'}\n",
      "17 roleset {'id': 'go.29', 'name': 'potty'}\n",
      "18 roleset {'id': 'go.31', 'name': 'an attempt, effort'}\n",
      "19 roleset {'id': 'go.32', 'name': 'attack or insult'}\n",
      "20 roleset {'id': 'go.35', 'name': 'spatial positioning; belong in a spot'}\n"
     ]
    }
   ],
   "source": [
    "test_pred = root.findall('predicate')[0]\n",
    "\n",
    "\n",
    "for n, ch in enumerate(test_pred.getchildren()):\n",
    "    print(n, ch.tag, ch.attrib)"
   ]
  },
  {
   "cell_type": "markdown",
   "metadata": {},
   "source": [
    "# 3. Explore roleset"
   ]
  },
  {
   "cell_type": "code",
   "execution_count": 6,
   "metadata": {},
   "outputs": [
    {
     "name": "stdout",
     "output_type": "stream",
     "text": [
      "aliases \n",
      "         {}\n",
      "\t alias go {'pos': 'v'} 0\n",
      "----------------------------------\n",
      "roles \n",
      "         {}\n",
      "\t role \n",
      "           {'descr': 'entity in motion/goer', 'f': 'PPT', 'n': '1'} 1\n",
      "\t\t rolelinks \n",
      "             {}\n",
      "\t role \n",
      "           {'descr': 'extent', 'f': 'EXT', 'n': '2'} 1\n",
      "\t\t rolelinks None {}\n",
      "\t role \n",
      "           {'descr': 'start point', 'f': 'DIR', 'n': '3'} 1\n",
      "\t\t rolelinks \n",
      "             {}\n",
      "\t role \n",
      "           {'descr': 'end point, end state of arg1', 'f': 'GOL', 'n': '4'} 1\n",
      "\t\t rolelinks \n",
      "             {}\n",
      "----------------------------------\n",
      "usagenotes \n",
      "         {}\n",
      "\t usage None {'resource': 'PropBank', 'version': '1.0', 'inuse': '+'} 0\n",
      "\t usage None {'resource': 'PropBank', 'version': '2.1.5', 'inuse': '+'} 0\n",
      "\t usage None {'resource': 'PropBank', 'version': '3.1', 'inuse': '+'} 0\n",
      "\t usage None {'resource': 'PropBank', 'version': '3.4', 'inuse': '+'} 0\n",
      "\t usage None {'resource': 'AMR', 'version': '2019', 'inuse': '+'} 0\n",
      "\t usage None {'resource': 'PropBank', 'version': 'Flickr 1.0', 'inuse': '+'} 0\n",
      "\t usage None {'resource': 'AMR', 'version': 'Spatial 1.0', 'inuse': '+'} 0\n",
      "\t usage None {'resource': 'AMR', 'version': 'THYME 1.0', 'inuse': '+'} 0\n",
      "----------------------------------\n",
      "lexlinks \n",
      "         {}\n",
      "\t lexlink None {'class': 'Motion', 'confidence': '0.8', 'resource': 'FrameNet', 'src': 'manual+strict-conv', 'version': '1.7'} 0\n",
      "\t lexlink None {'class': 'meander-47.7', 'confidence': '0.8', 'resource': 'VerbNet', 'src': 'manual+strict-conv', 'version': 'verbnet3.3'} 0\n",
      "\t lexlink None {'class': 'escape-51.1', 'confidence': '0.8', 'resource': 'VerbNet', 'src': 'manual+strict-conv', 'version': 'verbnet3.3'} 0\n",
      "\t lexlink None {'class': 'Transportperson', 'confidence': '0.1', 'resource': 'ERE', 'src': 'reo-expansion', 'version': 'rich'} 0\n",
      "\t lexlink None {'class': 'Transportartifact', 'confidence': '0.1', 'resource': 'ERE', 'src': 'reo-expansion', 'version': 'rich'} 0\n",
      "\t lexlink 187 {'class': 'go-v.1', 'confidence': '0.1', 'resource': 'onsense', 'src': 'annot-overlap', 'version': 'on5'} 0\n",
      "\t lexlink 34 {'class': 'go-v.4', 'confidence': '0.1', 'resource': 'onsense', 'src': 'annot-overlap', 'version': 'on5'} 0\n",
      "\t lexlink 20 {'class': 'go-v.2', 'confidence': '0.1', 'resource': 'onsense', 'src': 'annot-overlap', 'version': 'on5'} 0\n",
      "\t lexlink 14 {'class': 'go-v.15', 'confidence': '0.1', 'resource': 'onsense', 'src': 'annot-overlap', 'version': 'on5'} 0\n",
      "\t lexlink 31 {'class': 'go-v.10', 'confidence': '0.1', 'resource': 'onsense', 'src': 'annot-overlap', 'version': 'on5'} 0\n",
      "\t lexlink 4 {'class': 'go-v.11', 'confidence': '0.1', 'resource': 'onsense', 'src': 'annot-overlap', 'version': 'on5'} 0\n",
      "\t lexlink 17 {'class': 'go-v.5', 'confidence': '0.1', 'resource': 'onsense', 'src': 'annot-overlap', 'version': 'on5'} 0\n",
      "\t lexlink 3 {'class': 'go-v.7', 'confidence': '0.1', 'resource': 'onsense', 'src': 'annot-overlap', 'version': 'on5'} 0\n",
      "\t lexlink 6 {'class': 'go-v.14', 'confidence': '0.1', 'resource': 'onsense', 'src': 'annot-overlap', 'version': 'on5'} 0\n",
      "\t lexlink None {'class': 'meander-47.7', 'confidence': '1.0', 'resource': 'VerbNet', 'src': 'manualchecks', 'version': 'verbnet3.4'} 0\n",
      "----------------------------------\n",
      "example \n",
      "         {'name': 'go-v: start and end points', 'src': ''}\n",
      "\t text What flights go from Seattle to Boston via Minneapolis ? {} 0\n",
      "\t propbank \n",
      "           {} 5\n",
      "\t\t rel go {'relloc': '2'}\n",
      "\t\t arg What flights {'type': 'ARG1', 'start': '0', 'end': '1'}\n",
      "\t\t arg from Seattle {'type': 'ARG3', 'start': '3', 'end': '4'}\n",
      "\t\t arg to Boston {'type': 'ARG4', 'start': '5', 'end': '6'}\n",
      "\t\t arg via Minneapolis {'type': 'ARGM-LOC', 'start': '7', 'end': '8'}\n",
      "----------------------------------\n",
      "example \n",
      "         {'name': 'go-v: extent', 'src': ''}\n",
      "\t text Imports have gone down 33 % {} 0\n",
      "\t propbank \n",
      "           {} 4\n",
      "\t\t rel gone {'relloc': '2'}\n",
      "\t\t arg Imports {'type': 'ARG1', 'start': '0', 'end': '0'}\n",
      "\t\t arg down {'type': 'ARGM-DIR', 'start': '3', 'end': '3'}\n",
      "\t\t arg 33 % {'type': 'ARG2', 'start': '4', 'end': '5'}\n",
      "----------------------------------\n",
      "example \n",
      "         {'name': 'go-v: extent and end point', 'src': ''}\n",
      "\t text Woolworth went up 1 3/4 to 59 1/2 . {} 0\n",
      "\t propbank \n",
      "           {} 5\n",
      "\t\t rel went {'relloc': '1'}\n",
      "\t\t arg Woolworth {'type': 'ARG1', 'start': '0', 'end': '0'}\n",
      "\t\t arg up {'type': 'ARGM-DIR', 'start': '2', 'end': '2'}\n",
      "\t\t arg 1 3/4 {'type': 'ARG2', 'start': '3', 'end': '4'}\n",
      "\t\t arg to 59 1/2 {'type': 'ARG4', 'start': '5', 'end': '7'}\n",
      "----------------------------------\n",
      "example \n",
      "         {'name': \"go-v: with direction, don't be fooled by animate subject! This movement is not construed as self-directed here!\", 'src': ''}\n",
      "\t text A lot of people would like to go back to 1970 . {} 0\n",
      "\t propbank \n",
      "           {} 4\n",
      "\t\t rel go {'relloc': '7'}\n",
      "\t\t arg A lot of people {'type': 'ARG1', 'start': '0', 'end': '3'}\n",
      "\t\t arg back {'type': 'ARGM-DIR', 'start': '8', 'end': '8'}\n",
      "\t\t arg to 1970 {'type': 'ARG4', 'start': '9', 'end': '10'}\n",
      "----------------------------------\n",
      "example \n",
      "         {'name': \"go-v: as 'extend'\", 'src': ''}\n",
      "\t text At closely held Deltec Securities Corp. , junk bond money managers Amy K. Minella and Hannah H. Strasser say the problems of the junk market go deeper than a temporary malaise . {} 0\n",
      "\t propbank \n",
      "           {} 3\n",
      "\t\t rel go {'relloc': '25'}\n",
      "\t\t arg the problems of the junk market {'type': 'ARG1', 'start': '19', 'end': '24'}\n",
      "\t\t arg deeper than a temporary malaise {'type': 'ARG4', 'start': '26', 'end': '30'}\n",
      "----------------------------------\n",
      "example \n",
      "         {'name': 'go-v: and keep going!', 'src': ''}\n",
      "\t text The protesters who greeted Mikhail Gorbachev at East Berlin 's airport earlier this month were n't shouting `` Go U.S.A '' -- they were chanting `` Gorby , Help Us . '' {} 0\n",
      "\t propbank \n",
      "           {} 2\n",
      "\t\t rel Go {'relloc': '18'}\n",
      "\t\t arg U.S.A {'type': 'ARG1', 'start': '19', 'end': '19'}\n",
      "----------------------------------\n",
      "note GO-V NOTES: Member of VNcls meander-47.7, escape-51.1-2. (from go.01-v) {}\n",
      "----------------------------------\n",
      "note Treebank uses every possible syntax for the stock-report usage of this sense. You'll have to dig into constituents to pull these args apart. The \"direction\" arg is more mandatory than the ArgM label would suggest. (from go.01-v) {}\n",
      "----------------------------------\n"
     ]
    }
   ],
   "source": [
    "rolesets = test_pred.findall('roleset')\n",
    "\n",
    "roleset = rolesets[0]\n",
    "\n",
    "\n",
    "for ch in roleset.getchildren():\n",
    "    print(ch.tag, ch.text, ch.attrib)\n",
    "    for subch in ch.getchildren():\n",
    "        print('\\t', subch.tag, subch.text, subch.attrib, len(subch.getchildren()))\n",
    "        for subsubch in subch.getchildren():\n",
    "            print('\\t\\t', subsubch.tag, subsubch.text, subsubch.attrib)\n",
    "    print('----------------------------------')"
   ]
  },
  {
   "cell_type": "code",
   "execution_count": null,
   "metadata": {},
   "outputs": [],
   "source": []
  },
  {
   "cell_type": "code",
   "execution_count": null,
   "metadata": {},
   "outputs": [],
   "source": []
  },
  {
   "cell_type": "code",
   "execution_count": null,
   "metadata": {},
   "outputs": [],
   "source": []
  }
 ],
 "metadata": {
  "kernelspec": {
   "display_name": "Python 3 (ipykernel)",
   "language": "python",
   "name": "python3"
  },
  "language_info": {
   "codemirror_mode": {
    "name": "ipython",
    "version": 3
   },
   "file_extension": ".py",
   "mimetype": "text/x-python",
   "name": "python",
   "nbconvert_exporter": "python",
   "pygments_lexer": "ipython3",
   "version": "3.9.7"
  }
 },
 "nbformat": 4,
 "nbformat_minor": 4
}
